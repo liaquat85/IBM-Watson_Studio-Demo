{
    "cells": [
        {
            "cell_type": "markdown",
            "metadata": {},
            "source": "# Description \nFirst file adding to Jpuyter notebook in IBM Watson Studio "
        },
        {
            "cell_type": "code",
            "execution_count": 1,
            "metadata": {},
            "outputs": [
                {
                    "data": {
                        "text/html": "<div>\n<style scoped>\n    .dataframe tbody tr th:only-of-type {\n        vertical-align: middle;\n    }\n\n    .dataframe tbody tr th {\n        vertical-align: top;\n    }\n\n    .dataframe thead th {\n        text-align: right;\n    }\n</style>\n<table border=\"1\" class=\"dataframe\">\n  <thead>\n    <tr style=\"text-align: right;\">\n      <th></th>\n      <th>age</th>\n      <th>sex</th>\n      <th>color_of_skin</th>\n      <th>respiratory_rate</th>\n      <th>use_of_accessory_muscles</th>\n      <th>lung_auscultation</th>\n      <th>brain_function</th>\n      <th>heart_rate</th>\n      <th>asthma_severity</th>\n    </tr>\n  </thead>\n  <tbody>\n    <tr>\n      <th>0</th>\n      <td>1</td>\n      <td>F</td>\n      <td>normal</td>\n      <td>30</td>\n      <td>none</td>\n      <td>wheezing_end_expiration</td>\n      <td>Normal</td>\n      <td>124</td>\n      <td>Mild</td>\n    </tr>\n    <tr>\n      <th>1</th>\n      <td>1</td>\n      <td>M</td>\n      <td>normal</td>\n      <td>25</td>\n      <td>none</td>\n      <td>wheezing_end_expiration</td>\n      <td>Normal</td>\n      <td>120</td>\n      <td>Mild</td>\n    </tr>\n    <tr>\n      <th>2</th>\n      <td>2</td>\n      <td>M</td>\n      <td>normal</td>\n      <td>30</td>\n      <td>none</td>\n      <td>wheezing_end_expiration</td>\n      <td>Normal</td>\n      <td>134</td>\n      <td>Mild</td>\n    </tr>\n    <tr>\n      <th>3</th>\n      <td>1</td>\n      <td>F</td>\n      <td>normal</td>\n      <td>28</td>\n      <td>none</td>\n      <td>wheezing_end_expiration</td>\n      <td>Normal</td>\n      <td>123</td>\n      <td>Mild</td>\n    </tr>\n    <tr>\n      <th>4</th>\n      <td>2</td>\n      <td>M</td>\n      <td>normal</td>\n      <td>29</td>\n      <td>none</td>\n      <td>wheezing_end_expiration</td>\n      <td>Normal</td>\n      <td>150</td>\n      <td>Mild</td>\n    </tr>\n  </tbody>\n</table>\n</div>",
                        "text/plain": "   age sex color_of_skin  respiratory_rate use_of_accessory_muscles  \\\n0    1   F        normal                30                     none   \n1    1   M        normal                25                     none   \n2    2   M        normal                30                     none   \n3    1   F        normal                28                     none   \n4    2   M        normal                29                     none   \n\n         lung_auscultation brain_function  heart_rate asthma_severity  \n0  wheezing_end_expiration         Normal         124            Mild  \n1  wheezing_end_expiration         Normal         120            Mild  \n2  wheezing_end_expiration         Normal         134            Mild  \n3  wheezing_end_expiration         Normal         123            Mild  \n4  wheezing_end_expiration         Normal         150            Mild  "
                    },
                    "execution_count": 1,
                    "metadata": {},
                    "output_type": "execute_result"
                }
            ],
            "source": "# The code was removed by Watson Studio for sharing."
        },
        {
            "cell_type": "code",
            "execution_count": null,
            "metadata": {},
            "outputs": [],
            "source": ""
        }
    ],
    "metadata": {
        "kernelspec": {
            "display_name": "Python 3.7",
            "language": "python",
            "name": "python3"
        },
        "language_info": {
            "codemirror_mode": {
                "name": "ipython",
                "version": 3
            },
            "file_extension": ".py",
            "mimetype": "text/x-python",
            "name": "python",
            "nbconvert_exporter": "python",
            "pygments_lexer": "ipython3",
            "version": "3.7.9"
        }
    },
    "nbformat": 4,
    "nbformat_minor": 1
}